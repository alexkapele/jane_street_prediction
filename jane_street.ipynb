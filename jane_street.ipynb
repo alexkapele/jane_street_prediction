{
 "cells": [
  {
   "cell_type": "code",
   "execution_count": 65,
   "metadata": {},
   "outputs": [],
   "source": [
    "import pandas as pd\n",
    "import numpy as np\n",
    "import matplotlib.pyplot as plt"
   ]
  },
  {
   "cell_type": "markdown",
   "metadata": {},
   "source": [
    "## Training data exploration ##"
   ]
  },
  {
   "cell_type": "code",
   "execution_count": 33,
   "metadata": {},
   "outputs": [],
   "source": [
    "#Load random sample from train.csv\n",
    "import random\n",
    "\n",
    "filename = 'Data\\\\train.csv'\n",
    "n = sum(1 for line in open(filename)) - 1 #number of records in file\n",
    "s = 200000 #desired sample size\n",
    "skip = sorted(random.sample(range(1,n+1),n-s)) #the 0-indexed header will not be included in the skip list\n",
    "train_data = pd.read_csv(filename, skiprows=skip)"
   ]
  },
  {
   "cell_type": "code",
   "execution_count": 34,
   "metadata": {},
   "outputs": [],
   "source": [
    "#Load features.csv\n",
    "features = pd.read_csv('Data\\\\features.csv')"
   ]
  },
  {
   "cell_type": "markdown",
   "metadata": {},
   "source": [
    "### Training data"
   ]
  },
  {
   "cell_type": "code",
   "execution_count": 35,
   "metadata": {},
   "outputs": [
    {
     "data": {
      "text/html": [
       "<div>\n",
       "<style scoped>\n",
       "    .dataframe tbody tr th:only-of-type {\n",
       "        vertical-align: middle;\n",
       "    }\n",
       "\n",
       "    .dataframe tbody tr th {\n",
       "        vertical-align: top;\n",
       "    }\n",
       "\n",
       "    .dataframe thead th {\n",
       "        text-align: right;\n",
       "    }\n",
       "</style>\n",
       "<table border=\"1\" class=\"dataframe\">\n",
       "  <thead>\n",
       "    <tr style=\"text-align: right;\">\n",
       "      <th></th>\n",
       "      <th>date</th>\n",
       "      <th>weight</th>\n",
       "      <th>resp_1</th>\n",
       "      <th>resp_2</th>\n",
       "      <th>resp_3</th>\n",
       "      <th>resp_4</th>\n",
       "      <th>resp</th>\n",
       "      <th>feature_0</th>\n",
       "      <th>feature_1</th>\n",
       "      <th>feature_2</th>\n",
       "      <th>...</th>\n",
       "      <th>feature_121</th>\n",
       "      <th>feature_122</th>\n",
       "      <th>feature_123</th>\n",
       "      <th>feature_124</th>\n",
       "      <th>feature_125</th>\n",
       "      <th>feature_126</th>\n",
       "      <th>feature_127</th>\n",
       "      <th>feature_128</th>\n",
       "      <th>feature_129</th>\n",
       "      <th>ts_id</th>\n",
       "    </tr>\n",
       "  </thead>\n",
       "  <tbody>\n",
       "    <tr>\n",
       "      <th>0</th>\n",
       "      <td>0</td>\n",
       "      <td>0.000000</td>\n",
       "      <td>-0.001047</td>\n",
       "      <td>-0.002700</td>\n",
       "      <td>0.000743</td>\n",
       "      <td>0.004667</td>\n",
       "      <td>0.001282</td>\n",
       "      <td>-1</td>\n",
       "      <td>-1.499681</td>\n",
       "      <td>-1.928023</td>\n",
       "      <td>...</td>\n",
       "      <td>NaN</td>\n",
       "      <td>0.337112</td>\n",
       "      <td>4.079450</td>\n",
       "      <td>0.613967</td>\n",
       "      <td>6.622410</td>\n",
       "      <td>0.799525</td>\n",
       "      <td>5.231833</td>\n",
       "      <td>0.360831</td>\n",
       "      <td>3.922324</td>\n",
       "      <td>5</td>\n",
       "    </tr>\n",
       "    <tr>\n",
       "      <th>1</th>\n",
       "      <td>0</td>\n",
       "      <td>0.405199</td>\n",
       "      <td>0.005290</td>\n",
       "      <td>0.008046</td>\n",
       "      <td>0.010947</td>\n",
       "      <td>0.012894</td>\n",
       "      <td>0.010657</td>\n",
       "      <td>1</td>\n",
       "      <td>0.430999</td>\n",
       "      <td>-0.566564</td>\n",
       "      <td>...</td>\n",
       "      <td>NaN</td>\n",
       "      <td>0.620526</td>\n",
       "      <td>3.590086</td>\n",
       "      <td>1.328633</td>\n",
       "      <td>7.298527</td>\n",
       "      <td>1.737351</td>\n",
       "      <td>5.730919</td>\n",
       "      <td>0.846331</td>\n",
       "      <td>3.784673</td>\n",
       "      <td>18</td>\n",
       "    </tr>\n",
       "    <tr>\n",
       "      <th>2</th>\n",
       "      <td>0</td>\n",
       "      <td>1.932131</td>\n",
       "      <td>0.000726</td>\n",
       "      <td>0.002271</td>\n",
       "      <td>-0.001161</td>\n",
       "      <td>-0.005704</td>\n",
       "      <td>-0.001758</td>\n",
       "      <td>1</td>\n",
       "      <td>-0.210944</td>\n",
       "      <td>-0.791918</td>\n",
       "      <td>...</td>\n",
       "      <td>NaN</td>\n",
       "      <td>1.015644</td>\n",
       "      <td>5.920381</td>\n",
       "      <td>0.553876</td>\n",
       "      <td>6.398648</td>\n",
       "      <td>0.715738</td>\n",
       "      <td>5.038656</td>\n",
       "      <td>0.578121</td>\n",
       "      <td>4.452278</td>\n",
       "      <td>24</td>\n",
       "    </tr>\n",
       "    <tr>\n",
       "      <th>3</th>\n",
       "      <td>0</td>\n",
       "      <td>119.137190</td>\n",
       "      <td>-0.003248</td>\n",
       "      <td>-0.003826</td>\n",
       "      <td>-0.001878</td>\n",
       "      <td>0.000884</td>\n",
       "      <td>-0.001324</td>\n",
       "      <td>-1</td>\n",
       "      <td>4.223937</td>\n",
       "      <td>4.004195</td>\n",
       "      <td>...</td>\n",
       "      <td>NaN</td>\n",
       "      <td>-1.410107</td>\n",
       "      <td>0.609500</td>\n",
       "      <td>-1.044982</td>\n",
       "      <td>1.456225</td>\n",
       "      <td>-1.632080</td>\n",
       "      <td>1.185489</td>\n",
       "      <td>-1.335729</td>\n",
       "      <td>1.240240</td>\n",
       "      <td>34</td>\n",
       "    </tr>\n",
       "    <tr>\n",
       "      <th>4</th>\n",
       "      <td>0</td>\n",
       "      <td>1.150897</td>\n",
       "      <td>-0.002724</td>\n",
       "      <td>-0.003229</td>\n",
       "      <td>0.000046</td>\n",
       "      <td>0.001423</td>\n",
       "      <td>-0.000789</td>\n",
       "      <td>-1</td>\n",
       "      <td>-2.537617</td>\n",
       "      <td>-2.550776</td>\n",
       "      <td>...</td>\n",
       "      <td>NaN</td>\n",
       "      <td>-1.236871</td>\n",
       "      <td>1.048022</td>\n",
       "      <td>-1.044237</td>\n",
       "      <td>1.464073</td>\n",
       "      <td>-1.628817</td>\n",
       "      <td>1.196283</td>\n",
       "      <td>-1.320741</td>\n",
       "      <td>1.278507</td>\n",
       "      <td>37</td>\n",
       "    </tr>\n",
       "  </tbody>\n",
       "</table>\n",
       "<p>5 rows × 138 columns</p>\n",
       "</div>"
      ],
      "text/plain": [
       "   date      weight    resp_1    resp_2    resp_3    resp_4      resp  \\\n",
       "0     0    0.000000 -0.001047 -0.002700  0.000743  0.004667  0.001282   \n",
       "1     0    0.405199  0.005290  0.008046  0.010947  0.012894  0.010657   \n",
       "2     0    1.932131  0.000726  0.002271 -0.001161 -0.005704 -0.001758   \n",
       "3     0  119.137190 -0.003248 -0.003826 -0.001878  0.000884 -0.001324   \n",
       "4     0    1.150897 -0.002724 -0.003229  0.000046  0.001423 -0.000789   \n",
       "\n",
       "   feature_0  feature_1  feature_2  ...  feature_121  feature_122  \\\n",
       "0         -1  -1.499681  -1.928023  ...          NaN     0.337112   \n",
       "1          1   0.430999  -0.566564  ...          NaN     0.620526   \n",
       "2          1  -0.210944  -0.791918  ...          NaN     1.015644   \n",
       "3         -1   4.223937   4.004195  ...          NaN    -1.410107   \n",
       "4         -1  -2.537617  -2.550776  ...          NaN    -1.236871   \n",
       "\n",
       "   feature_123  feature_124  feature_125  feature_126  feature_127  \\\n",
       "0     4.079450     0.613967     6.622410     0.799525     5.231833   \n",
       "1     3.590086     1.328633     7.298527     1.737351     5.730919   \n",
       "2     5.920381     0.553876     6.398648     0.715738     5.038656   \n",
       "3     0.609500    -1.044982     1.456225    -1.632080     1.185489   \n",
       "4     1.048022    -1.044237     1.464073    -1.628817     1.196283   \n",
       "\n",
       "   feature_128  feature_129  ts_id  \n",
       "0     0.360831     3.922324      5  \n",
       "1     0.846331     3.784673     18  \n",
       "2     0.578121     4.452278     24  \n",
       "3    -1.335729     1.240240     34  \n",
       "4    -1.320741     1.278507     37  \n",
       "\n",
       "[5 rows x 138 columns]"
      ]
     },
     "execution_count": 35,
     "metadata": {},
     "output_type": "execute_result"
    }
   ],
   "source": [
    "train_data.head()"
   ]
  },
  {
   "cell_type": "code",
   "execution_count": 37,
   "metadata": {},
   "outputs": [
    {
     "data": {
      "text/plain": [
       "(200000, 138)"
      ]
     },
     "execution_count": 37,
     "metadata": {},
     "output_type": "execute_result"
    }
   ],
   "source": [
    "train_data.shape"
   ]
  },
  {
   "cell_type": "code",
   "execution_count": 38,
   "metadata": {},
   "outputs": [
    {
     "data": {
      "text/plain": [
       "(34487, 138)"
      ]
     },
     "execution_count": 38,
     "metadata": {},
     "output_type": "execute_result"
    }
   ],
   "source": [
    "train_data[train_data['weight']==0].shape"
   ]
  },
  {
   "cell_type": "code",
   "execution_count": 39,
   "metadata": {},
   "outputs": [],
   "source": [
    "#Remove records with weight=0\n",
    "train_data_ = train_data[train_data['weight']!=0]"
   ]
  },
  {
   "cell_type": "code",
   "execution_count": 10,
   "metadata": {},
   "outputs": [],
   "source": [
    "#train_data_ = train_data_.dropna()"
   ]
  },
  {
   "cell_type": "code",
   "execution_count": 40,
   "metadata": {},
   "outputs": [
    {
     "data": {
      "text/plain": [
       "(165513, 138)"
      ]
     },
     "execution_count": 40,
     "metadata": {},
     "output_type": "execute_result"
    }
   ],
   "source": [
    "train_data_.shape"
   ]
  },
  {
   "cell_type": "markdown",
   "metadata": {},
   "source": [
    "NAs:"
   ]
  },
  {
   "cell_type": "code",
   "execution_count": 63,
   "metadata": {},
   "outputs": [
    {
     "data": {
      "text/plain": [
       "Index(['feature_3', 'feature_4', 'feature_7', 'feature_8', 'feature_9',\n",
       "       'feature_10', 'feature_11', 'feature_12', 'feature_13', 'feature_14',\n",
       "       'feature_15', 'feature_16', 'feature_17', 'feature_18', 'feature_19',\n",
       "       'feature_20', 'feature_21', 'feature_22', 'feature_23', 'feature_24',\n",
       "       'feature_25', 'feature_26', 'feature_27', 'feature_28', 'feature_29',\n",
       "       'feature_30', 'feature_31', 'feature_32', 'feature_33', 'feature_34',\n",
       "       'feature_35', 'feature_36', 'feature_44', 'feature_45', 'feature_55',\n",
       "       'feature_56', 'feature_59', 'feature_72', 'feature_73', 'feature_74',\n",
       "       'feature_75', 'feature_76', 'feature_78', 'feature_79', 'feature_80',\n",
       "       'feature_81', 'feature_82', 'feature_84', 'feature_85', 'feature_86',\n",
       "       'feature_87', 'feature_88', 'feature_90', 'feature_91', 'feature_92',\n",
       "       'feature_93', 'feature_94', 'feature_96', 'feature_97', 'feature_98',\n",
       "       'feature_99', 'feature_100', 'feature_102', 'feature_103',\n",
       "       'feature_104', 'feature_105', 'feature_106', 'feature_108',\n",
       "       'feature_109', 'feature_110', 'feature_111', 'feature_112',\n",
       "       'feature_114', 'feature_115', 'feature_116', 'feature_117',\n",
       "       'feature_118', 'feature_120', 'feature_121', 'feature_122',\n",
       "       'feature_123', 'feature_124', 'feature_125', 'feature_126',\n",
       "       'feature_127', 'feature_128', 'feature_129'],\n",
       "      dtype='object')"
      ]
     },
     "execution_count": 63,
     "metadata": {},
     "output_type": "execute_result"
    }
   ],
   "source": [
    "train_data_.columns[train_data_.isnull().any()]"
   ]
  },
  {
   "cell_type": "code",
   "execution_count": 57,
   "metadata": {},
   "outputs": [],
   "source": [
    "test = pd.read_csv('Data\\\\example_test.csv')"
   ]
  },
  {
   "cell_type": "code",
   "execution_count": 60,
   "metadata": {},
   "outputs": [
    {
     "data": {
      "text/plain": [
       "Index(['feature_7', 'feature_8', 'feature_9', 'feature_10', 'feature_11',\n",
       "       'feature_12', 'feature_13', 'feature_14', 'feature_15', 'feature_16',\n",
       "       'feature_17', 'feature_18', 'feature_19', 'feature_20', 'feature_21',\n",
       "       'feature_22', 'feature_23', 'feature_24', 'feature_25', 'feature_26',\n",
       "       'feature_27', 'feature_28', 'feature_29', 'feature_30', 'feature_31',\n",
       "       'feature_32', 'feature_33', 'feature_34', 'feature_35', 'feature_36',\n",
       "       'feature_55', 'feature_56', 'feature_72', 'feature_73', 'feature_74',\n",
       "       'feature_75', 'feature_76', 'feature_78', 'feature_79', 'feature_80',\n",
       "       'feature_81', 'feature_82', 'feature_84', 'feature_85', 'feature_86',\n",
       "       'feature_87', 'feature_88', 'feature_90', 'feature_91', 'feature_92',\n",
       "       'feature_93', 'feature_94', 'feature_96', 'feature_97', 'feature_98',\n",
       "       'feature_99', 'feature_100', 'feature_102', 'feature_103',\n",
       "       'feature_104', 'feature_105', 'feature_106', 'feature_108',\n",
       "       'feature_109', 'feature_110', 'feature_111', 'feature_112',\n",
       "       'feature_114', 'feature_115', 'feature_116', 'feature_117',\n",
       "       'feature_118', 'feature_120', 'feature_121', 'feature_124',\n",
       "       'feature_125', 'feature_126', 'feature_127', 'feature_128',\n",
       "       'feature_129'],\n",
       "      dtype='object')"
      ]
     },
     "execution_count": 60,
     "metadata": {},
     "output_type": "execute_result"
    }
   ],
   "source": [
    "test.columns[test.isnull().any()]"
   ]
  },
  {
   "cell_type": "markdown",
   "metadata": {},
   "source": [
    "Resp features:"
   ]
  },
  {
   "cell_type": "code",
   "execution_count": 69,
   "metadata": {},
   "outputs": [
    {
     "data": {
      "text/html": [
       "<div>\n",
       "<style scoped>\n",
       "    .dataframe tbody tr th:only-of-type {\n",
       "        vertical-align: middle;\n",
       "    }\n",
       "\n",
       "    .dataframe tbody tr th {\n",
       "        vertical-align: top;\n",
       "    }\n",
       "\n",
       "    .dataframe thead th {\n",
       "        text-align: right;\n",
       "    }\n",
       "</style>\n",
       "<table border=\"1\" class=\"dataframe\">\n",
       "  <thead>\n",
       "    <tr style=\"text-align: right;\">\n",
       "      <th></th>\n",
       "      <th>resp_1</th>\n",
       "      <th>resp_2</th>\n",
       "      <th>resp_3</th>\n",
       "      <th>resp_4</th>\n",
       "      <th>resp</th>\n",
       "    </tr>\n",
       "  </thead>\n",
       "  <tbody>\n",
       "    <tr>\n",
       "      <th>1</th>\n",
       "      <td>0.005290</td>\n",
       "      <td>0.008046</td>\n",
       "      <td>0.010947</td>\n",
       "      <td>0.012894</td>\n",
       "      <td>0.010657</td>\n",
       "    </tr>\n",
       "    <tr>\n",
       "      <th>2</th>\n",
       "      <td>0.000726</td>\n",
       "      <td>0.002271</td>\n",
       "      <td>-0.001161</td>\n",
       "      <td>-0.005704</td>\n",
       "      <td>-0.001758</td>\n",
       "    </tr>\n",
       "    <tr>\n",
       "      <th>3</th>\n",
       "      <td>-0.003248</td>\n",
       "      <td>-0.003826</td>\n",
       "      <td>-0.001878</td>\n",
       "      <td>0.000884</td>\n",
       "      <td>-0.001324</td>\n",
       "    </tr>\n",
       "    <tr>\n",
       "      <th>4</th>\n",
       "      <td>-0.002724</td>\n",
       "      <td>-0.003229</td>\n",
       "      <td>0.000046</td>\n",
       "      <td>0.001423</td>\n",
       "      <td>-0.000789</td>\n",
       "    </tr>\n",
       "    <tr>\n",
       "      <th>5</th>\n",
       "      <td>0.126417</td>\n",
       "      <td>0.147485</td>\n",
       "      <td>0.049301</td>\n",
       "      <td>-0.058998</td>\n",
       "      <td>0.061697</td>\n",
       "    </tr>\n",
       "    <tr>\n",
       "      <th>...</th>\n",
       "      <td>...</td>\n",
       "      <td>...</td>\n",
       "      <td>...</td>\n",
       "      <td>...</td>\n",
       "      <td>...</td>\n",
       "    </tr>\n",
       "    <tr>\n",
       "      <th>199990</th>\n",
       "      <td>-0.000618</td>\n",
       "      <td>-0.000618</td>\n",
       "      <td>-0.015429</td>\n",
       "      <td>-0.077939</td>\n",
       "      <td>-0.085305</td>\n",
       "    </tr>\n",
       "    <tr>\n",
       "      <th>199991</th>\n",
       "      <td>-0.000371</td>\n",
       "      <td>-0.000371</td>\n",
       "      <td>0.010995</td>\n",
       "      <td>0.057358</td>\n",
       "      <td>0.050335</td>\n",
       "    </tr>\n",
       "    <tr>\n",
       "      <th>199992</th>\n",
       "      <td>0.000559</td>\n",
       "      <td>0.000559</td>\n",
       "      <td>-0.000930</td>\n",
       "      <td>-0.002515</td>\n",
       "      <td>-0.000421</td>\n",
       "    </tr>\n",
       "    <tr>\n",
       "      <th>199994</th>\n",
       "      <td>0.001203</td>\n",
       "      <td>0.001203</td>\n",
       "      <td>0.000752</td>\n",
       "      <td>0.035829</td>\n",
       "      <td>0.039893</td>\n",
       "    </tr>\n",
       "    <tr>\n",
       "      <th>199995</th>\n",
       "      <td>0.001942</td>\n",
       "      <td>0.001942</td>\n",
       "      <td>-0.000987</td>\n",
       "      <td>-0.015819</td>\n",
       "      <td>-0.017674</td>\n",
       "    </tr>\n",
       "  </tbody>\n",
       "</table>\n",
       "<p>165513 rows × 5 columns</p>\n",
       "</div>"
      ],
      "text/plain": [
       "          resp_1    resp_2    resp_3    resp_4      resp\n",
       "1       0.005290  0.008046  0.010947  0.012894  0.010657\n",
       "2       0.000726  0.002271 -0.001161 -0.005704 -0.001758\n",
       "3      -0.003248 -0.003826 -0.001878  0.000884 -0.001324\n",
       "4      -0.002724 -0.003229  0.000046  0.001423 -0.000789\n",
       "5       0.126417  0.147485  0.049301 -0.058998  0.061697\n",
       "...          ...       ...       ...       ...       ...\n",
       "199990 -0.000618 -0.000618 -0.015429 -0.077939 -0.085305\n",
       "199991 -0.000371 -0.000371  0.010995  0.057358  0.050335\n",
       "199992  0.000559  0.000559 -0.000930 -0.002515 -0.000421\n",
       "199994  0.001203  0.001203  0.000752  0.035829  0.039893\n",
       "199995  0.001942  0.001942 -0.000987 -0.015819 -0.017674\n",
       "\n",
       "[165513 rows x 5 columns]"
      ]
     },
     "execution_count": 69,
     "metadata": {},
     "output_type": "execute_result"
    }
   ],
   "source": [
    "train_data_[['resp_1','resp_2','resp_3','resp_4','resp']]"
   ]
  },
  {
   "cell_type": "code",
   "execution_count": 68,
   "metadata": {},
   "outputs": [
    {
     "data": {
      "image/png": "[encoded data removed]",
      "text/plain": [
       "<Figure size 432x288 with 2 Axes>"
      ]
     },
     "metadata": {
      "needs_background": "light"
     },
     "output_type": "display_data"
    }
   ],
   "source": [
    "import seaborn as sns\n",
    "\n",
    "sns.heatmap(train_data_[['resp_1','resp_2','resp_3','resp_4','resp']].corr())\n",
    "plt.show()"
   ]
  },
  {
   "cell_type": "markdown",
   "metadata": {},
   "source": [
    "### Features"
   ]
  },
  {
   "cell_type": "code",
   "execution_count": 12,
   "metadata": {},
   "outputs": [
    {
     "data": {
      "text/html": [
       "<div>\n",
       "<style scoped>\n",
       "    .dataframe tbody tr th:only-of-type {\n",
       "        vertical-align: middle;\n",
       "    }\n",
       "\n",
       "    .dataframe tbody tr th {\n",
       "        vertical-align: top;\n",
       "    }\n",
       "\n",
       "    .dataframe thead th {\n",
       "        text-align: right;\n",
       "    }\n",
       "</style>\n",
       "<table border=\"1\" class=\"dataframe\">\n",
       "  <thead>\n",
       "    <tr style=\"text-align: right;\">\n",
       "      <th></th>\n",
       "      <th>feature</th>\n",
       "      <th>tag_0</th>\n",
       "      <th>tag_1</th>\n",
       "      <th>tag_2</th>\n",
       "      <th>tag_3</th>\n",
       "      <th>tag_4</th>\n",
       "      <th>tag_5</th>\n",
       "      <th>tag_6</th>\n",
       "      <th>tag_7</th>\n",
       "      <th>tag_8</th>\n",
       "      <th>...</th>\n",
       "      <th>tag_19</th>\n",
       "      <th>tag_20</th>\n",
       "      <th>tag_21</th>\n",
       "      <th>tag_22</th>\n",
       "      <th>tag_23</th>\n",
       "      <th>tag_24</th>\n",
       "      <th>tag_25</th>\n",
       "      <th>tag_26</th>\n",
       "      <th>tag_27</th>\n",
       "      <th>tag_28</th>\n",
       "    </tr>\n",
       "  </thead>\n",
       "  <tbody>\n",
       "    <tr>\n",
       "      <th>0</th>\n",
       "      <td>feature_0</td>\n",
       "      <td>False</td>\n",
       "      <td>False</td>\n",
       "      <td>False</td>\n",
       "      <td>False</td>\n",
       "      <td>False</td>\n",
       "      <td>False</td>\n",
       "      <td>False</td>\n",
       "      <td>False</td>\n",
       "      <td>False</td>\n",
       "      <td>...</td>\n",
       "      <td>False</td>\n",
       "      <td>False</td>\n",
       "      <td>False</td>\n",
       "      <td>False</td>\n",
       "      <td>False</td>\n",
       "      <td>False</td>\n",
       "      <td>False</td>\n",
       "      <td>False</td>\n",
       "      <td>False</td>\n",
       "      <td>False</td>\n",
       "    </tr>\n",
       "    <tr>\n",
       "      <th>1</th>\n",
       "      <td>feature_1</td>\n",
       "      <td>False</td>\n",
       "      <td>False</td>\n",
       "      <td>False</td>\n",
       "      <td>False</td>\n",
       "      <td>False</td>\n",
       "      <td>False</td>\n",
       "      <td>True</td>\n",
       "      <td>True</td>\n",
       "      <td>False</td>\n",
       "      <td>...</td>\n",
       "      <td>False</td>\n",
       "      <td>False</td>\n",
       "      <td>False</td>\n",
       "      <td>False</td>\n",
       "      <td>False</td>\n",
       "      <td>False</td>\n",
       "      <td>False</td>\n",
       "      <td>False</td>\n",
       "      <td>False</td>\n",
       "      <td>False</td>\n",
       "    </tr>\n",
       "    <tr>\n",
       "      <th>2</th>\n",
       "      <td>feature_2</td>\n",
       "      <td>False</td>\n",
       "      <td>False</td>\n",
       "      <td>False</td>\n",
       "      <td>False</td>\n",
       "      <td>False</td>\n",
       "      <td>False</td>\n",
       "      <td>True</td>\n",
       "      <td>True</td>\n",
       "      <td>False</td>\n",
       "      <td>...</td>\n",
       "      <td>False</td>\n",
       "      <td>False</td>\n",
       "      <td>False</td>\n",
       "      <td>False</td>\n",
       "      <td>False</td>\n",
       "      <td>False</td>\n",
       "      <td>False</td>\n",
       "      <td>False</td>\n",
       "      <td>False</td>\n",
       "      <td>False</td>\n",
       "    </tr>\n",
       "    <tr>\n",
       "      <th>3</th>\n",
       "      <td>feature_3</td>\n",
       "      <td>False</td>\n",
       "      <td>False</td>\n",
       "      <td>False</td>\n",
       "      <td>False</td>\n",
       "      <td>False</td>\n",
       "      <td>False</td>\n",
       "      <td>True</td>\n",
       "      <td>False</td>\n",
       "      <td>True</td>\n",
       "      <td>...</td>\n",
       "      <td>False</td>\n",
       "      <td>False</td>\n",
       "      <td>False</td>\n",
       "      <td>False</td>\n",
       "      <td>False</td>\n",
       "      <td>False</td>\n",
       "      <td>False</td>\n",
       "      <td>False</td>\n",
       "      <td>False</td>\n",
       "      <td>False</td>\n",
       "    </tr>\n",
       "    <tr>\n",
       "      <th>4</th>\n",
       "      <td>feature_4</td>\n",
       "      <td>False</td>\n",
       "      <td>False</td>\n",
       "      <td>False</td>\n",
       "      <td>False</td>\n",
       "      <td>False</td>\n",
       "      <td>False</td>\n",
       "      <td>True</td>\n",
       "      <td>False</td>\n",
       "      <td>True</td>\n",
       "      <td>...</td>\n",
       "      <td>False</td>\n",
       "      <td>False</td>\n",
       "      <td>False</td>\n",
       "      <td>False</td>\n",
       "      <td>False</td>\n",
       "      <td>False</td>\n",
       "      <td>False</td>\n",
       "      <td>False</td>\n",
       "      <td>False</td>\n",
       "      <td>False</td>\n",
       "    </tr>\n",
       "  </tbody>\n",
       "</table>\n",
       "<p>5 rows × 30 columns</p>\n",
       "</div>"
      ],
      "text/plain": [
       "     feature  tag_0  tag_1  tag_2  tag_3  tag_4  tag_5  tag_6  tag_7  tag_8  \\\n",
       "0  feature_0  False  False  False  False  False  False  False  False  False   \n",
       "1  feature_1  False  False  False  False  False  False   True   True  False   \n",
       "2  feature_2  False  False  False  False  False  False   True   True  False   \n",
       "3  feature_3  False  False  False  False  False  False   True  False   True   \n",
       "4  feature_4  False  False  False  False  False  False   True  False   True   \n",
       "\n",
       "   ...  tag_19  tag_20  tag_21  tag_22  tag_23  tag_24  tag_25  tag_26  \\\n",
       "0  ...   False   False   False   False   False   False   False   False   \n",
       "1  ...   False   False   False   False   False   False   False   False   \n",
       "2  ...   False   False   False   False   False   False   False   False   \n",
       "3  ...   False   False   False   False   False   False   False   False   \n",
       "4  ...   False   False   False   False   False   False   False   False   \n",
       "\n",
       "   tag_27  tag_28  \n",
       "0   False   False  \n",
       "1   False   False  \n",
       "2   False   False  \n",
       "3   False   False  \n",
       "4   False   False  \n",
       "\n",
       "[5 rows x 30 columns]"
      ]
     },
     "execution_count": 12,
     "metadata": {},
     "output_type": "execute_result"
    }
   ],
   "source": [
    "features.head()"
   ]
  },
  {
   "cell_type": "code",
   "execution_count": 13,
   "metadata": {},
   "outputs": [],
   "source": [
    "features = features.set_index('feature')"
   ]
  },
  {
   "cell_type": "code",
   "execution_count": 15,
   "metadata": {},
   "outputs": [
    {
     "data": {
      "image/png": "[encoded data removed]",
      "text/plain": [
       "<Figure size 576x1440 with 1 Axes>"
      ]
     },
     "metadata": {
      "needs_background": "light"
     },
     "output_type": "display_data"
    }
   ],
   "source": [
    "import seaborn as sns\n",
    "import matplotlib.pyplot as plt\n",
    "\n",
    "fig, ax = plt.subplots(figsize=(8,20))     \n",
    "sns.heatmap(features*1,cbar=False)\n",
    "plt.show()"
   ]
  },
  {
   "cell_type": "code",
   "execution_count": null,
   "metadata": {},
   "outputs": [],
   "source": []
  }
 ],
 "metadata": {
  "kernelspec": {
   "display_name": "Python 3",
   "language": "python",
   "name": "python3"
  },
  "language_info": {
   "codemirror_mode": {
    "name": "ipython",
    "version": 3
   },
   "file_extension": ".py",
   "mimetype": "text/x-python",
   "name": "python",
   "nbconvert_exporter": "python",
   "pygments_lexer": "ipython3",
   "version": "3.7.1"
  }
 },
 "nbformat": 4,
 "nbformat_minor": 2
}
